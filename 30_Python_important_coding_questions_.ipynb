{
  "nbformat": 4,
  "nbformat_minor": 0,
  "metadata": {
    "colab": {
      "provenance": []
    },
    "kernelspec": {
      "name": "python3",
      "display_name": "Python 3"
    },
    "language_info": {
      "name": "python"
    }
  },
  "cells": [
    {
      "cell_type": "markdown",
      "source": [
        "1.)Python program to reverse a string."
      ],
      "metadata": {
        "id": "KvxcYbjSMAtY"
      }
    },
    {
      "cell_type": "code",
      "source": [
        "def string_string(s):\n",
        "  return s[::-1]\n",
        "input_string = \"Hello everyone good morning\"\n",
        "reversed_string = reverse_string(input_string)\n",
        "print(\"Oringinal string\",input_string)\n",
        "print(\"Reversed string\",reversed_string)"
      ],
      "metadata": {
        "colab": {
          "base_uri": "https://localhost:8080/"
        },
        "id": "yzHlnZyZL_YN",
        "outputId": "49a3d191-f12d-4a4f-82db-84151be27a59"
      },
      "execution_count": 3,
      "outputs": [
        {
          "output_type": "stream",
          "name": "stdout",
          "text": [
            "Oringinal string Hello everyone good morning\n",
            "Reversed string gninrom doog enoyreve olleH\n"
          ]
        }
      ]
    },
    {
      "cell_type": "markdown",
      "source": [
        "2.) Write a Python program to Check Palindrome?"
      ],
      "metadata": {
        "id": "PmY9RFIwMyHx"
      }
    },
    {
      "cell_type": "code",
      "source": [
        "# For string.\n",
        "def is_palindrome(s):\n",
        "  s = s.replace(\" \",\" \").lower()\n",
        "  return s == s[::-1]\n",
        "\n",
        "input_string = \"A man, a plan, a canal,Panama\"\n",
        "if is_palindrome(input_string):\n",
        "    print(\"The string is a palindrome\")\n",
        "else:\n",
        "    print(\"The string is not a palindrome\")"
      ],
      "metadata": {
        "colab": {
          "base_uri": "https://localhost:8080/"
        },
        "id": "MIN3CXXoL_g3",
        "outputId": "f2d36999-41f6-49ad-a892-2c76b14aa7cb"
      },
      "execution_count": 6,
      "outputs": [
        {
          "output_type": "stream",
          "name": "stdout",
          "text": [
            "The string is not a palindrome\n"
          ]
        }
      ]
    },
    {
      "cell_type": "code",
      "source": [
        "def is_palindrome(number):\n",
        "    # Convert number to string for easy manipulation\n",
        "    num_str = str(number)\n",
        "    return num_str == num_str[::-1]\n",
        "\n",
        "# Example usage\n",
        "input_number = 12321\n",
        "if is_palindrome(input_number):\n",
        "    print(\"The number is a palindrome.\")\n",
        "else:\n",
        "    print(\"The number is not a palindrome.\")\n"
      ],
      "metadata": {
        "colab": {
          "base_uri": "https://localhost:8080/"
        },
        "id": "anE1liUTL_m7",
        "outputId": "1b05a247-39c0-4034-dc9f-0327cb51c41e"
      },
      "execution_count": 8,
      "outputs": [
        {
          "output_type": "stream",
          "name": "stdout",
          "text": [
            "The number is a palindrome.\n"
          ]
        }
      ]
    },
    {
      "cell_type": "markdown",
      "source": [
        "3.) Write a Python program to find Factorial with Recursion?"
      ],
      "metadata": {
        "id": "xrliS3gpl3Rt"
      }
    },
    {
      "cell_type": "code",
      "source": [
        "#With Function\n",
        "def factorial(n):\n",
        "    if n == 0:\n",
        "        return 1\n",
        "    else:\n",
        "        return n * factorial(n - 1)\n",
        "\n",
        "# Example usage\n",
        "number = 5\n",
        "result = factorial(number)\n",
        "print(\"Factorial of\", number, \"is\", result)\n"
      ],
      "metadata": {
        "colab": {
          "base_uri": "https://localhost:8080/"
        },
        "id": "x7QXtwqXOvMx",
        "outputId": "d4a5a975-0f11-4ebe-c539-99450386d93e"
      },
      "execution_count": 9,
      "outputs": [
        {
          "output_type": "stream",
          "name": "stdout",
          "text": [
            "Factorial of 5 is 120\n"
          ]
        }
      ]
    },
    {
      "cell_type": "code",
      "source": [
        "#without function.\n",
        "number = int(input(\"Enter the number:\"))\n",
        "factorial = 1\n",
        "\n",
        "if number < 0:\n",
        "    print(\"Factorial is not defined for negative numbers.\")\n",
        "elif number == 0:\n",
        "    print(\"Factorial of 0 is 1\")\n",
        "else:\n",
        "    for i in range(1, number + 1):\n",
        "        factorial *= i\n",
        "    print(\"Factorial of\", number, \"is\", factorial)\n"
      ],
      "metadata": {
        "colab": {
          "base_uri": "https://localhost:8080/"
        },
        "id": "EPoGnhUrOvaA",
        "outputId": "65c42bbf-809a-4dfc-ffbb-a64b248f1dfe"
      },
      "execution_count": 10,
      "outputs": [
        {
          "output_type": "stream",
          "name": "stdout",
          "text": [
            "Enter the number:12\n",
            "Factorial of 12 is 479001600\n"
          ]
        }
      ]
    },
    {
      "cell_type": "markdown",
      "source": [
        "5: Write a Python program to find Fibonacci Sequence?"
      ],
      "metadata": {
        "id": "ZboPYgzjmVW1"
      }
    },
    {
      "cell_type": "code",
      "source": [
        "def fibonacci(n):\n",
        "    fib_sequence = [0, 1]  # Initialize the sequence with the first two terms\n",
        "    for i in range(2, n):\n",
        "        next_term = fib_sequence[-1] + fib_sequence[-2]\n",
        "        fib_sequence.append(next_term)\n",
        "    return fib_sequence\n",
        "\n",
        "# Example usage\n",
        "num_terms = 10\n",
        "fib_sequence = fibonacci(num_terms)\n",
        "print(\"Fibonacci sequence up to\", num_terms, \"terms:\", fib_sequence)\n"
      ],
      "metadata": {
        "colab": {
          "base_uri": "https://localhost:8080/"
        },
        "id": "mM7ZC3TjOvh2",
        "outputId": "4113f462-5bc4-48d9-a5a3-1d14404e3f8c"
      },
      "execution_count": 11,
      "outputs": [
        {
          "output_type": "stream",
          "name": "stdout",
          "text": [
            "Fibonacci sequence up to 10 terms: [0, 1, 1, 2, 3, 5, 8, 13, 21, 34]\n"
          ]
        }
      ]
    },
    {
      "cell_type": "markdown",
      "source": [
        "6: Write a Python program to find Maximum Element in a List?\n"
      ],
      "metadata": {
        "id": "dh3lV_6-mdZP"
      }
    },
    {
      "cell_type": "code",
      "source": [
        "# Example list\n",
        "my_list = [10, 23, 45, 67, 12, 89, 34]\n",
        "\n",
        "# Find maximum element\n",
        "max_element = max(my_list)\n",
        "\n",
        "print(\"Maximum element in the list:\", max_element)\n"
      ],
      "metadata": {
        "colab": {
          "base_uri": "https://localhost:8080/"
        },
        "id": "IZghe_oSOvkz",
        "outputId": "5e740696-01d7-4db5-c1ef-2f4937b90c78"
      },
      "execution_count": 12,
      "outputs": [
        {
          "output_type": "stream",
          "name": "stdout",
          "text": [
            "Maximum element in the list: 89\n"
          ]
        }
      ]
    },
    {
      "cell_type": "code",
      "source": [
        "#Using User-defined Function:\n",
        "def find_max_element(lst):\n",
        "    if not lst:  # If the list is empty\n",
        "        return None  # Return None since there is no maximum element\n",
        "    max_element = lst[0]  # Initialize max_element with the first element of the list\n",
        "    for num in lst:\n",
        "        if num > max_element:\n",
        "            max_element = num\n",
        "    return max_element\n",
        "\n",
        "# Example usage\n",
        "my_list = [10, 23, 45, 67, 12, 89, 34]\n",
        "max_element = find_max_element(my_list)\n",
        "print(\"Maximum element in the list:\", max_element)\n"
      ],
      "metadata": {
        "colab": {
          "base_uri": "https://localhost:8080/"
        },
        "id": "ZJj-cD4KOvnh",
        "outputId": "cc7cb595-f6ce-4734-ca52-b607b68691e6"
      },
      "execution_count": 13,
      "outputs": [
        {
          "output_type": "stream",
          "name": "stdout",
          "text": [
            "Maximum element in the list: 89\n"
          ]
        }
      ]
    },
    {
      "cell_type": "markdown",
      "source": [
        "7: Write a Python program to find Anagram Check?"
      ],
      "metadata": {
        "id": "Sb41Ev8GmxH0"
      }
    },
    {
      "cell_type": "code",
      "source": [
        "def is_anagram(str1, str2):\n",
        "    # Remove spaces and convert to lowercase for case-insensitive comparison\n",
        "    str1 = str1.replace(\" \", \"\").lower()\n",
        "    str2 = str2.replace(\" \", \"\").lower()\n",
        "    # Check if the sorted forms of both strings are equal\n",
        "    return sorted(str1) == sorted(str2)\n",
        "\n",
        "# Example usage\n",
        "string1 = \"listen\"\n",
        "string2 = \"silent\"\n",
        "if is_anagram(string1, string2):\n",
        "    print(f\"'{string1}' and '{string2}' are anagrams.\")\n",
        "else:\n",
        "    print(f\"'{string1}' and '{string2}' are not anagrams.\")\n"
      ],
      "metadata": {
        "colab": {
          "base_uri": "https://localhost:8080/"
        },
        "id": "9E6z-_0NOvqc",
        "outputId": "c4d73cf1-ecd6-4eb1-e9c2-74eb0debde25"
      },
      "execution_count": 14,
      "outputs": [
        {
          "output_type": "stream",
          "name": "stdout",
          "text": [
            "'listen' and 'silent' are anagrams.\n"
          ]
        }
      ]
    },
    {
      "cell_type": "markdown",
      "source": [
        "8: Write a Python program to find Prime Numbers?"
      ],
      "metadata": {
        "id": "L7S7RY0vm4sn"
      }
    },
    {
      "cell_type": "code",
      "source": [
        "def is_prime(num):\n",
        "    if num <= 1:\n",
        "        return False\n",
        "    for i in range(2, int(num ** 0.5) + 1):\n",
        "        if num % i == 0:\n",
        "            return False\n",
        "    return True\n",
        "\n",
        "def find_primes(start, end):\n",
        "    primes = []\n",
        "    for num in range(start, end + 1):\n",
        "        if is_prime(num):\n",
        "            primes.append(num)\n",
        "    return primes\n",
        "\n",
        "# Example usage\n",
        "start_range = 1\n",
        "end_range = 50\n",
        "prime_numbers = find_primes(start_range, end_range)\n",
        "print(\"Prime numbers between\", start_range, \"and\", end_range, \"are:\", prime_numbers)\n"
      ],
      "metadata": {
        "colab": {
          "base_uri": "https://localhost:8080/"
        },
        "id": "YQrJykuJOvtD",
        "outputId": "42b6a920-8252-4e79-8f86-570a992d4d18"
      },
      "execution_count": 15,
      "outputs": [
        {
          "output_type": "stream",
          "name": "stdout",
          "text": [
            "Prime numbers between 1 and 50 are: [2, 3, 5, 7, 11, 13, 17, 19, 23, 29, 31, 37, 41, 43, 47]\n"
          ]
        }
      ]
    },
    {
      "cell_type": "markdown",
      "source": [
        "9: Write a Python program to check for Pangram?"
      ],
      "metadata": {
        "id": "o_O7AfE2m_op"
      }
    },
    {
      "cell_type": "code",
      "source": [
        "import string\n",
        "\n",
        "def is_pangram(sentence):\n",
        "    # Convert sentence to lowercase for case-insensitive comparison\n",
        "    sentence = sentence.lower()\n",
        "    # Create a set of unique characters in the sentence\n",
        "    unique_chars = set(sentence)\n",
        "    # Remove non-alphabetic characters and spaces\n",
        "    unique_chars.discard(\" \")\n",
        "    unique_chars.difference_update(set(string.punctuation))\n",
        "    # Check if all letters of the alphabet are present\n",
        "    return len(unique_chars) == 26\n",
        "\n",
        "# Example usage\n",
        "input_sentence = \"The quick brown fox jumps over the lazy dog\"\n",
        "if is_pangram(input_sentence):\n",
        "    print(\"The sentence is a pangram.\")\n",
        "else:\n",
        "    print(\"The sentence is not a pangram.\")\n"
      ],
      "metadata": {
        "colab": {
          "base_uri": "https://localhost:8080/"
        },
        "id": "WW2pl_zwOvv-",
        "outputId": "18879288-e4f0-4d0e-ce8c-017c21a5f48c"
      },
      "execution_count": 16,
      "outputs": [
        {
          "output_type": "stream",
          "name": "stdout",
          "text": [
            "The sentence is a pangram.\n"
          ]
        }
      ]
    },
    {
      "cell_type": "markdown",
      "source": [
        "10: Write a Python program to basic Data Structure Operations (e.g., list manipulation, string manipulation)?"
      ],
      "metadata": {
        "id": "kr1EiliRnH-F"
      }
    },
    {
      "cell_type": "code",
      "source": [
        "# List manipulation\n",
        "my_list = [1, 2, 3, 4, 5]\n",
        "\n",
        "# Append an element to the list\n",
        "my_list.append(6)\n",
        "print(\"After appending 6:\", my_list)\n",
        "\n",
        "# Remove an element from the list\n",
        "my_list.remove(3)\n",
        "print(\"After removing 3:\", my_list)\n",
        "\n",
        "# Access elements by index\n",
        "print(\"Element at index 2:\", my_list[2])\n",
        "\n",
        "# String manipulation\n",
        "my_string = \"Hello, World!\"\n",
        "\n",
        "# Split the string into a list of words\n",
        "words = my_string.split()\n",
        "print(\"Split string into words:\", words)\n",
        "\n",
        "# Join elements of a list into a single string\n",
        "new_string = \"-\".join(words)\n",
        "print(\"Joined words with '-':\", new_string)\n",
        "\n",
        "# Convert string to uppercase\n",
        "upper_string = my_string.upper()\n",
        "print(\"Uppercase string:\", upper_string)\n",
        "\n",
        "# Replace a substring\n",
        "replaced_string = my_string.replace(\"World\", \"Universe\")\n",
        "print(\"After replacing 'World' with 'Universe':\", replaced_string)\n"
      ],
      "metadata": {
        "colab": {
          "base_uri": "https://localhost:8080/"
        },
        "id": "Ux2ZqH9NOvyk",
        "outputId": "a1e866bb-43fe-4f7f-edc6-2b0afd21ecbb"
      },
      "execution_count": 17,
      "outputs": [
        {
          "output_type": "stream",
          "name": "stdout",
          "text": [
            "After appending 6: [1, 2, 3, 4, 5, 6]\n",
            "After removing 3: [1, 2, 4, 5, 6]\n",
            "Element at index 2: 4\n",
            "Split string into words: ['Hello,', 'World!']\n",
            "Joined words with '-': Hello,-World!\n",
            "Uppercase string: HELLO, WORLD!\n",
            "After replacing 'World' with 'Universe': Hello, Universe!\n"
          ]
        }
      ]
    },
    {
      "cell_type": "markdown",
      "source": [
        "11: Write a Python program to find Minimum Element in a List?\n",
        "Solution:"
      ],
      "metadata": {
        "id": "mbumM-_enQ3V"
      }
    },
    {
      "cell_type": "code",
      "source": [
        "def find_min_element(lst):\n",
        "    if not lst:  # If the list is empty\n",
        "        return None  # Return None since there is no minimum element\n",
        "    min_element = lst[0]  # Initialize min_element with the first element of the list\n",
        "    for num in lst:\n",
        "        if num < min_element:\n",
        "            min_element = num\n",
        "    return min_element\n",
        "\n",
        "# Example usage\n",
        "my_list = [10, 23, 45, 67, 12, 89, 34]\n",
        "min_element = find_min_element(my_list)\n",
        "print(\"Minimum element in the list:\", min_element)\n"
      ],
      "metadata": {
        "colab": {
          "base_uri": "https://localhost:8080/"
        },
        "id": "nhSYgIiaOv1K",
        "outputId": "6af91f92-1784-4f50-c82c-56acf21b4f54"
      },
      "execution_count": 18,
      "outputs": [
        {
          "output_type": "stream",
          "name": "stdout",
          "text": [
            "Minimum element in the list: 10\n"
          ]
        }
      ]
    },
    {
      "cell_type": "code",
      "source": [
        "#Using Built-in Function:\n",
        "my_list = [10, 23, 45, 67, 12, 89, 34]\n",
        "min_element = min(my_list)\n",
        "print(\"Minimum element in the list:\", min_element)\n"
      ],
      "metadata": {
        "colab": {
          "base_uri": "https://localhost:8080/"
        },
        "id": "03JFPX3ZnY4_",
        "outputId": "394344f2-3d40-4371-ee8d-e425c129515f"
      },
      "execution_count": 19,
      "outputs": [
        {
          "output_type": "stream",
          "name": "stdout",
          "text": [
            "Minimum element in the list: 10\n"
          ]
        }
      ]
    },
    {
      "cell_type": "markdown",
      "source": [
        "12: Write a Python program to calculate Sum of Digits in a Number?"
      ],
      "metadata": {
        "id": "0n4vGvWhph37"
      }
    },
    {
      "cell_type": "markdown",
      "source": [],
      "metadata": {
        "id": "VsY9q10UnVLm"
      }
    },
    {
      "cell_type": "code",
      "source": [
        "def sum_of_digits(number):\n",
        "    # Convert number to string to iterate through its digits\n",
        "    num_str = str(number)\n",
        "    # Initialize sum\n",
        "    digit_sum = 0\n",
        "    # Iterate through each digit and add it to the sum\n",
        "    for digit in num_str:\n",
        "        digit_sum += int(digit)\n",
        "    return digit_sum\n",
        "\n",
        "# Example usage\n",
        "input_number = 12345\n",
        "result = sum_of_digits(input_number)\n",
        "print(\"Sum of digits in\", input_number, \"is\", result)\n"
      ],
      "metadata": {
        "colab": {
          "base_uri": "https://localhost:8080/"
        },
        "id": "9jdDvHmjOv32",
        "outputId": "313615f6-fa8e-419f-fa48-e3cbfdd9869a"
      },
      "execution_count": 20,
      "outputs": [
        {
          "output_type": "stream",
          "name": "stdout",
          "text": [
            "Sum of digits in 12345 is 15\n"
          ]
        }
      ]
    },
    {
      "cell_type": "markdown",
      "source": [
        "13: Write a Python program to check for Armstrong Number?"
      ],
      "metadata": {
        "id": "ctiZAScRppcx"
      }
    },
    {
      "cell_type": "code",
      "source": [
        "def is_armstrong(number):\n",
        "    # Convert number to string to get its length\n",
        "    num_str = str(number)\n",
        "    # Get the number of digits\n",
        "    num_digits = len(num_str)\n",
        "    # Initialize sum\n",
        "    armstrong_sum = 0\n",
        "    # Calculate the sum of digits raised to the power of the number of digits\n",
        "    for digit in num_str:\n",
        "        armstrong_sum += int(digit) ** num_digits\n",
        "    # Check if the sum is equal to the original number\n",
        "    return armstrong_sum == number\n",
        "\n",
        "# Example usage\n",
        "input_number = 153\n",
        "if is_armstrong(input_number):\n",
        "    print(input_number, \"is an Armstrong number.\")\n",
        "else:\n",
        "    print(input_number, \"is not an Armstrong number.\")\n"
      ],
      "metadata": {
        "colab": {
          "base_uri": "https://localhost:8080/"
        },
        "id": "XWnkYqIqOv6e",
        "outputId": "784f6e39-4f86-4af7-a37d-c3ce3a18ced5"
      },
      "execution_count": 21,
      "outputs": [
        {
          "output_type": "stream",
          "name": "stdout",
          "text": [
            "153 is an Armstrong number.\n"
          ]
        }
      ]
    },
    {
      "cell_type": "markdown",
      "source": [
        "14: Write a Python program to check for Leap Year?"
      ],
      "metadata": {
        "id": "6pLizFMjpvaB"
      }
    },
    {
      "cell_type": "code",
      "source": [
        "def is_leap_year(year):\n",
        "    if (year % 4 == 0 and year % 100 != 0) or (year % 400 == 0):\n",
        "        return True\n",
        "    else:\n",
        "        return False\n",
        "\n",
        "# Example usage\n",
        "input_year = 2024\n",
        "if is_leap_year(input_year):\n",
        "    print(input_year, \"is a leap year.\")\n",
        "else:\n",
        "    print(input_year, \"is not a leap year.\")\n"
      ],
      "metadata": {
        "colab": {
          "base_uri": "https://localhost:8080/"
        },
        "id": "HoonDBkKOv9D",
        "outputId": "38d4cd12-3562-4ff1-c046-a1268faeee15"
      },
      "execution_count": 22,
      "outputs": [
        {
          "output_type": "stream",
          "name": "stdout",
          "text": [
            "2024 is a leap year.\n"
          ]
        }
      ]
    },
    {
      "cell_type": "markdown",
      "source": [
        "15: Write a Python program to calculate Factorial without Recursion?"
      ],
      "metadata": {
        "id": "ioGaL6ttp02S"
      }
    },
    {
      "cell_type": "code",
      "source": [
        "def factorial(n):\n",
        "    result = 1\n",
        "    for i in range(1, n + 1):\n",
        "        result *= i\n",
        "    return result\n",
        "\n",
        "# Example usage\n",
        "number = 5\n",
        "result = factorial(number)\n",
        "print(\"Factorial of\", number, \"is\", result)\n"
      ],
      "metadata": {
        "colab": {
          "base_uri": "https://localhost:8080/"
        },
        "id": "veciFqIaOwAM",
        "outputId": "75a0f6c9-4890-4e96-cbfe-d0012d7d0d0c"
      },
      "execution_count": 23,
      "outputs": [
        {
          "output_type": "stream",
          "name": "stdout",
          "text": [
            "Factorial of 5 is 120\n"
          ]
        }
      ]
    },
    {
      "cell_type": "markdown",
      "source": [
        "16: Write a Python program to find Average of Numbers in a List?"
      ],
      "metadata": {
        "id": "IKNg1ychp53j"
      }
    },
    {
      "cell_type": "code",
      "source": [
        "def find_average(numbers):\n",
        "    if not numbers:  # If the list is empty\n",
        "        return None  # Return None since there are no numbers to average\n",
        "    total = sum(numbers)  # Calculate the sum of numbers in the list\n",
        "    average = total / len(numbers)  # Calculate the average\n",
        "    return average\n",
        "\n",
        "# Example usage\n",
        "number_list = [10, 20, 30, 40, 50]\n",
        "average = find_average(number_list)\n",
        "if average is not None:\n",
        "    print(\"Average of numbers in the list:\", average)\n",
        "else:\n",
        "    print(\"The list is empty.\")\n"
      ],
      "metadata": {
        "colab": {
          "base_uri": "https://localhost:8080/"
        },
        "id": "xQAe9P22p4eF",
        "outputId": "a6b3371c-8f8f-4cf7-a684-cfa0abe5fb7d"
      },
      "execution_count": 24,
      "outputs": [
        {
          "output_type": "stream",
          "name": "stdout",
          "text": [
            "Average of numbers in the list: 30.0\n"
          ]
        }
      ]
    },
    {
      "cell_type": "markdown",
      "source": [
        "17: Write a Python program to Merge Two Sorted Lists?"
      ],
      "metadata": {
        "id": "TRkZBFmnqAHM"
      }
    },
    {
      "cell_type": "code",
      "source": [
        "def merge_sorted_lists(list1, list2):\n",
        "    merged_list = []\n",
        "    i = j = 0\n",
        "\n",
        "    while i < len(list1) and j < len(list2):\n",
        "        if list1[i] < list2[j]:\n",
        "            merged_list.append(list1[i])\n",
        "            i += 1\n",
        "        else:\n",
        "            merged_list.append(list2[j])\n",
        "            j += 1\n",
        "\n",
        "    # Append remaining elements from list1, if any\n",
        "    while i < len(list1):\n",
        "        merged_list.append(list1[i])\n",
        "        i += 1\n",
        "\n",
        "    # Append remaining elements from list2, if any\n",
        "    while j < len(list2):\n",
        "        merged_list.append(list2[j])\n",
        "        j += 1\n",
        "\n",
        "    return merged_list\n",
        "\n",
        "# Example usage\n",
        "list1 = [1, 3, 5, 7, 9]\n",
        "list2 = [2, 4, 6, 8, 10]\n",
        "merged_list = merge_sorted_lists(list1, list2)\n",
        "print(\"Merged sorted list:\", merged_list)\n"
      ],
      "metadata": {
        "colab": {
          "base_uri": "https://localhost:8080/"
        },
        "id": "fhc5vb7Lp4hL",
        "outputId": "5f2641a3-83c3-44d2-edbd-b689a80f6f7b"
      },
      "execution_count": 25,
      "outputs": [
        {
          "output_type": "stream",
          "name": "stdout",
          "text": [
            "Merged sorted list: [1, 2, 3, 4, 5, 6, 7, 8, 9, 10]\n"
          ]
        }
      ]
    },
    {
      "cell_type": "markdown",
      "source": [
        "18: Write a Python program to Remove Duplicates from a String?"
      ],
      "metadata": {
        "id": "qPpj1JFbqFbS"
      }
    },
    {
      "cell_type": "code",
      "source": [
        "def remove_duplicates(input_string):\n",
        "    # Initialize an empty set to store unique characters\n",
        "    unique_chars = set()\n",
        "    # Initialize an empty string to store the result\n",
        "    result = \"\"\n",
        "    # Iterate through each character in the input string\n",
        "    for char in input_string:\n",
        "        # Add the character to the result string if it's not already in the set\n",
        "        if char not in unique_chars:\n",
        "            result += char\n",
        "            unique_chars.add(char)\n",
        "    return result\n",
        "\n",
        "# Example usage\n",
        "input_string = \"hello world\"\n",
        "result = remove_duplicates(input_string)\n",
        "print(\"String with duplicates removed:\", result)\n"
      ],
      "metadata": {
        "colab": {
          "base_uri": "https://localhost:8080/"
        },
        "id": "Ku4p_9-kp4kN",
        "outputId": "93eb3703-5552-4506-eded-dd370b226e59"
      },
      "execution_count": 26,
      "outputs": [
        {
          "output_type": "stream",
          "name": "stdout",
          "text": [
            "String with duplicates removed: helo wrd\n"
          ]
        }
      ]
    },
    {
      "cell_type": "markdown",
      "source": [
        "19: Write a Python program to Check for Perfect Number?"
      ],
      "metadata": {
        "id": "v2Tc7jiUqKsx"
      }
    },
    {
      "cell_type": "code",
      "source": [
        "def is_perfect_number(number):\n",
        "    if number <= 0:\n",
        "        return False\n",
        "    divisor_sum = 0\n",
        "    # Find proper divisors and sum them up\n",
        "    for i in range(1, number):\n",
        "        if number % i == 0:\n",
        "            divisor_sum += i\n",
        "    # Check if the sum of proper divisors equals the number\n",
        "    return divisor_sum == number\n",
        "\n",
        "# Example usage\n",
        "input_number = 28\n",
        "if is_perfect_number(input_number):\n",
        "    print(input_number, \"is a perfect number.\")\n",
        "else:\n",
        "    print(input_number, \"is not a perfect number.\")\n"
      ],
      "metadata": {
        "colab": {
          "base_uri": "https://localhost:8080/"
        },
        "id": "FV-r-Aovp4nG",
        "outputId": "b0df2641-4917-4642-f1ac-77b00c5440f5"
      },
      "execution_count": 27,
      "outputs": [
        {
          "output_type": "stream",
          "name": "stdout",
          "text": [
            "28 is a perfect number.\n"
          ]
        }
      ]
    },
    {
      "cell_type": "markdown",
      "source": [
        "20: Write a Python program to Find Maximum Difference between Two Elements in a List?"
      ],
      "metadata": {
        "id": "nbeGF1GKqOgI"
      }
    },
    {
      "cell_type": "code",
      "source": [
        "def max_difference(nums):\n",
        "    if len(nums) < 2:\n",
        "        return None  # If the list has less than two elements, return None\n",
        "    min_element = float('inf')  # Initialize min_element to positive infinity\n",
        "    max_difference = float('-inf')  # Initialize max_difference to negative infinity\n",
        "    for num in nums:\n",
        "        min_element = min(min_element, num)\n",
        "        max_difference = max(max_difference, num - min_element)\n",
        "    return max_difference\n",
        "\n",
        "# Example usage\n",
        "numbers = [7, 1, 5, 3, 6, 4]\n",
        "result = max_difference(numbers)\n",
        "if result is not None:\n",
        "    print(\"Maximum difference between two elements in the list:\", result)\n",
        "else:\n",
        "    print(\"The list has less than two elements.\")\n"
      ],
      "metadata": {
        "colab": {
          "base_uri": "https://localhost:8080/"
        },
        "id": "4fdbdY4mp4p-",
        "outputId": "f77ff670-4577-43f6-f31d-d2a21069c46d"
      },
      "execution_count": 28,
      "outputs": [
        {
          "output_type": "stream",
          "name": "stdout",
          "text": [
            "Maximum difference between two elements in the list: 5\n"
          ]
        }
      ]
    },
    {
      "cell_type": "markdown",
      "source": [
        "21: Write a Python program to check if a Number is Even or Odd?"
      ],
      "metadata": {
        "id": "q63sV3yFqVzj"
      }
    },
    {
      "cell_type": "code",
      "source": [
        "#With User-defined Function:\n",
        "def check_even_odd(number):\n",
        "    if number % 2 == 0:\n",
        "        return \"Even\"\n",
        "    else:\n",
        "        return \"Odd\"\n",
        "\n",
        "# Example usage\n",
        "input_number = 7\n",
        "result = check_even_odd(input_number)\n",
        "print(input_number, \"is\", result)\n"
      ],
      "metadata": {
        "colab": {
          "base_uri": "https://localhost:8080/"
        },
        "id": "yQAjIV6Vp4s5",
        "outputId": "b3a2edd2-b982-4b12-dd25-d0943c288970"
      },
      "execution_count": 30,
      "outputs": [
        {
          "output_type": "stream",
          "name": "stdout",
          "text": [
            "7 is Odd\n"
          ]
        }
      ]
    },
    {
      "cell_type": "code",
      "source": [
        "#Without Function:\n",
        "number = 7\n",
        "\n",
        "if number % 2 == 0:\n",
        "    print(number, \"is Even\")\n",
        "else:\n",
        "    print(number, \"is Odd\")\n"
      ],
      "metadata": {
        "colab": {
          "base_uri": "https://localhost:8080/"
        },
        "id": "0ndzkLL1p4vv",
        "outputId": "a64ff3cf-dfc2-4b3a-9e80-3b519c2e0fc8"
      },
      "execution_count": 31,
      "outputs": [
        {
          "output_type": "stream",
          "name": "stdout",
          "text": [
            "7 is Odd\n"
          ]
        }
      ]
    },
    {
      "cell_type": "markdown",
      "source": [
        "22: Write a Python program to Count Words in a Sentence?"
      ],
      "metadata": {
        "id": "Ism7jgfyqlDK"
      }
    },
    {
      "cell_type": "code",
      "source": [
        "def count_words(sentence):\n",
        "    # Split the sentence into words using whitespace as the delimiter\n",
        "    words = sentence.split()\n",
        "    # Count the number of words\n",
        "    return len(words)\n",
        "\n",
        "# Example usage\n",
        "input_sentence = \"This is a sample sentence.\"\n",
        "word_count = count_words(input_sentence)\n",
        "print(\"Number of words in the sentence:\", word_count)"
      ],
      "metadata": {
        "colab": {
          "base_uri": "https://localhost:8080/"
        },
        "id": "lsQJJX3Vp4ys",
        "outputId": "65707749-d393-4191-b370-ff5fbe8f2c55"
      },
      "execution_count": 32,
      "outputs": [
        {
          "output_type": "stream",
          "name": "stdout",
          "text": [
            "Number of words in the sentence: 5\n"
          ]
        }
      ]
    },
    {
      "cell_type": "code",
      "source": [
        "#With Built-in Fucntion:\n",
        "sentence = \"This is a sample sentence.\"\n",
        "word_count = len(sentence.split())\n",
        "print(\"Number of words in the sentence:\", word_count)\n"
      ],
      "metadata": {
        "colab": {
          "base_uri": "https://localhost:8080/"
        },
        "id": "KL4b8JmDp41p",
        "outputId": "b9923714-89c3-4699-e8fd-0900c3125606"
      },
      "execution_count": 33,
      "outputs": [
        {
          "output_type": "stream",
          "name": "stdout",
          "text": [
            "Number of words in the sentence: 5\n"
          ]
        }
      ]
    },
    {
      "cell_type": "code",
      "source": [
        "#Without Built-in Function:\n",
        "sentence = \"This is a sample sentence.\"\n",
        "word_count = 0\n",
        "# Flag to indicate if the current character is part of a word\n",
        "in_word = False\n",
        "# Iterate through each character in the sentence\n",
        "for char in sentence:\n",
        "    # If the character is not a space and we are not already in a word\n",
        "    if char != ' ' and not in_word:\n",
        "        # Increment word count and set the flag to indicate we are in a word\n",
        "        word_count += 1\n",
        "        in_word = True\n",
        "    # If the character is a space and we are in a word\n",
        "    elif char == ' ' and in_word:\n",
        "        # Set the flag to indicate we are not in a word\n",
        "        in_word = False\n",
        "\n",
        "print(\"Number of words in the sentence:\", word_count)\n"
      ],
      "metadata": {
        "colab": {
          "base_uri": "https://localhost:8080/"
        },
        "id": "apq7Xi-qp44p",
        "outputId": "b35a50fe-8678-4de4-9041-a4a9fe5d754c"
      },
      "execution_count": 34,
      "outputs": [
        {
          "output_type": "stream",
          "name": "stdout",
          "text": [
            "Number of words in the sentence: 5\n"
          ]
        }
      ]
    },
    {
      "cell_type": "markdown",
      "source": [
        "24: Write a Python program to Convert Decimal to Binary?"
      ],
      "metadata": {
        "id": "TZ5uwkA9q1UR"
      }
    },
    {
      "cell_type": "code",
      "source": [
        "def decimal_to_binary(decimal):\n",
        "    binary = \"\"\n",
        "    quotient = decimal\n",
        "    while quotient > 0:\n",
        "        remainder = quotient % 2\n",
        "        binary = str(remainder) + binary\n",
        "        quotient //= 2\n",
        "    return binary\n",
        "\n",
        "# Example usage\n",
        "decimal_number = 10\n",
        "binary_number = decimal_to_binary(decimal_number)\n",
        "print(\"Binary representation of\", decimal_number, \"is\", binary_number)\n"
      ],
      "metadata": {
        "colab": {
          "base_uri": "https://localhost:8080/"
        },
        "id": "Tm9E117Vp47p",
        "outputId": "dc189e7e-831f-4ffa-f30f-bc5450d90fd0"
      },
      "execution_count": 35,
      "outputs": [
        {
          "output_type": "stream",
          "name": "stdout",
          "text": [
            "Binary representation of 10 is 1010\n"
          ]
        }
      ]
    },
    {
      "cell_type": "markdown",
      "source": [
        "25: Write a Python program to Find Second Largest Element in a List?"
      ],
      "metadata": {
        "id": "_z2S_EJ8q50H"
      }
    },
    {
      "cell_type": "code",
      "source": [
        "def second_largest(nums):\n",
        "    if len(nums) < 2:\n",
        "        return None  # If the list has less than two elements, return None\n",
        "    sorted_nums = sorted(nums, reverse=True)  # Sort the list in descending order\n",
        "    return sorted_nums[1]  # Return the second element (index 1)\n",
        "\n",
        "# Example usage\n",
        "numbers = [10, 30, 20, 40, 50]\n",
        "result = second_largest(numbers)\n",
        "if result is not None:\n",
        "    print(\"Second largest element in the list:\", result)\n",
        "else:\n",
        "    print(\"The list has less than two elements.\")\n"
      ],
      "metadata": {
        "colab": {
          "base_uri": "https://localhost:8080/"
        },
        "id": "wdIOQhpLp4-p",
        "outputId": "27d82e78-be0e-46ae-9859-0f07dfb0bb03"
      },
      "execution_count": 36,
      "outputs": [
        {
          "output_type": "stream",
          "name": "stdout",
          "text": [
            "Second largest element in the list: 40\n"
          ]
        }
      ]
    },
    {
      "cell_type": "markdown",
      "source": [
        "26: Write a Python program to Reverse Words in a String?"
      ],
      "metadata": {
        "id": "ScCSbh0Xq95J"
      }
    },
    {
      "cell_type": "code",
      "source": [
        "def reverse_words(input_string):\n",
        "    # Split the string into words\n",
        "    words = input_string.split()\n",
        "    # Reverse the order of words\n",
        "    reversed_words = words[::-1]\n",
        "    # Join the reversed words back into a string\n",
        "    reversed_string = \" \".join(reversed_words)\n",
        "    return reversed_string\n",
        "\n",
        "# Example usage\n",
        "input_string = \"Hello World\"\n",
        "reversed_string = reverse_words(input_string)\n",
        "print(\"Original string:\", input_string)\n",
        "print(\"Reversed string:\", reversed_string)\n"
      ],
      "metadata": {
        "colab": {
          "base_uri": "https://localhost:8080/"
        },
        "id": "-SO-KvxTp5By",
        "outputId": "35913a4e-97e8-42d9-dfd4-2e45486181dd"
      },
      "execution_count": 37,
      "outputs": [
        {
          "output_type": "stream",
          "name": "stdout",
          "text": [
            "Original string: Hello World\n",
            "Reversed string: World Hello\n"
          ]
        }
      ]
    },
    {
      "cell_type": "markdown",
      "source": [
        "27: Write a Python program to check if a Number is a Prime Factor?"
      ],
      "metadata": {
        "id": "5NgWXC1krCtJ"
      }
    },
    {
      "cell_type": "code",
      "source": [
        "def is_prime_factor(number, potential_factor):\n",
        "    if number <= 1 or potential_factor <= 1:\n",
        "        return False  # Numbers less than or equal to 1 are not considered prime factors\n",
        "    return number % potential_factor == 0\n",
        "\n",
        "# Example usage\n",
        "number = 15\n",
        "potential_factor = 3\n",
        "if is_prime_factor(number, potential_factor):\n",
        "    print(potential_factor, \"is a prime factor of\", number)\n",
        "else:\n",
        "    print(potential_factor, \"is not a prime factor of\", number)\n"
      ],
      "metadata": {
        "colab": {
          "base_uri": "https://localhost:8080/"
        },
        "id": "V2ywPIdoOwDA",
        "outputId": "cdb00da4-f00a-4b0e-8b5e-4f987f5db58b"
      },
      "execution_count": 38,
      "outputs": [
        {
          "output_type": "stream",
          "name": "stdout",
          "text": [
            "3 is a prime factor of 15\n"
          ]
        }
      ]
    },
    {
      "cell_type": "markdown",
      "source": [
        "28: Write a Python program to check if a Number is a Power of Two?"
      ],
      "metadata": {
        "id": "D-jW20sirHSp"
      }
    },
    {
      "cell_type": "code",
      "source": [
        "def is_power_of_two(number):\n",
        "    if number <= 0:\n",
        "        return False  # Numbers less than or equal to 0 are not powers of two\n",
        "    while number > 1:\n",
        "        if number % 2 != 0:\n",
        "            return False  # If the number is not divisible by 2, it's not a power of two\n",
        "        number //= 2\n",
        "    return True\n",
        "\n",
        "# Example usage\n",
        "number = 16\n",
        "if is_power_of_two(number):\n",
        "    print(number, \"is a power of two.\")\n",
        "else:\n",
        "    print(number, \"is not a power of two.\")\n"
      ],
      "metadata": {
        "colab": {
          "base_uri": "https://localhost:8080/"
        },
        "id": "sbXUgl_0OwF3",
        "outputId": "49fa0ac5-6eba-41f9-ee46-c4b2cf61f386"
      },
      "execution_count": 39,
      "outputs": [
        {
          "output_type": "stream",
          "name": "stdout",
          "text": [
            "16 is a power of two.\n"
          ]
        }
      ]
    },
    {
      "cell_type": "markdown",
      "source": [
        "29: Write a Python program to convert Celsius to Fahrenheit?"
      ],
      "metadata": {
        "id": "x7epYKZqrMKz"
      }
    },
    {
      "cell_type": "code",
      "source": [
        "def celsius_to_fahrenheit(celsius):\n",
        "    fahrenheit = (celsius * 9/5) + 32\n",
        "    return fahrenheit\n",
        "\n",
        "# Example usage\n",
        "celsius_temperature = 25\n",
        "fahrenheit_temperature = celsius_to_fahrenheit(celsius_temperature)\n",
        "print(\"Celsius:\", celsius_temperature, \"Fahrenheit:\", fahrenheit_temperature)\n"
      ],
      "metadata": {
        "colab": {
          "base_uri": "https://localhost:8080/"
        },
        "id": "5GfmMtO-OwI-",
        "outputId": "68ee0b65-1fab-491f-9633-b7454b38beb5"
      },
      "execution_count": 40,
      "outputs": [
        {
          "output_type": "stream",
          "name": "stdout",
          "text": [
            "Celsius: 25 Fahrenheit: 77.0\n"
          ]
        }
      ]
    },
    {
      "cell_type": "markdown",
      "source": [
        "30: Write a Python program to calculate LCM (Least Common Multiple) of Two Numbers?"
      ],
      "metadata": {
        "id": "6lH0MSxLrQkb"
      }
    },
    {
      "cell_type": "code",
      "source": [
        "import math\n",
        "\n",
        "def lcm(a, b):\n",
        "    return abs(a * b) // math.gcd(a, b)\n",
        "\n",
        "# Example usage\n",
        "num1 = 12\n",
        "num2 = 18\n",
        "result = lcm(num1, num2)\n",
        "print(\"LCM of\", num1, \"and\", num2, \"is\", result)\n"
      ],
      "metadata": {
        "colab": {
          "base_uri": "https://localhost:8080/"
        },
        "id": "F_HDUYfrOwLz",
        "outputId": "d3c4cf34-e0e4-43d1-a4ef-a522fe222a04"
      },
      "execution_count": 41,
      "outputs": [
        {
          "output_type": "stream",
          "name": "stdout",
          "text": [
            "LCM of 12 and 18 is 36\n"
          ]
        }
      ]
    },
    {
      "cell_type": "code",
      "source": [],
      "metadata": {
        "id": "rnkQRatIOwO3"
      },
      "execution_count": null,
      "outputs": []
    },
    {
      "cell_type": "code",
      "source": [],
      "metadata": {
        "id": "8Faw_gwHOwRW"
      },
      "execution_count": null,
      "outputs": []
    },
    {
      "cell_type": "code",
      "source": [],
      "metadata": {
        "id": "2khYkZijOwU5"
      },
      "execution_count": null,
      "outputs": []
    }
  ]
}